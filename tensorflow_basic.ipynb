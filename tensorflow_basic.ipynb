{
 "cells": [
  {
   "cell_type": "markdown",
   "id": "checked-teacher",
   "metadata": {},
   "source": [
    "# Tensorflow_Basic\n",
    "Tensorflow에서 Tensor는 Rank라는 차원 단위로 표현된다.\n",
    "<br>\n",
    "- Rank 0 : Scalar\n",
    "- Rank 1 : Vector\n",
    "- Rank 2 : Matrix\n",
    "- Rank 3 : 3-Tensor\n",
    "- Rank n : n-Tensor"
   ]
  },
  {
   "cell_type": "code",
   "execution_count": 1,
   "id": "sealed-episode",
   "metadata": {
    "scrolled": true
   },
   "outputs": [],
   "source": [
    "# import library\n",
    "import tensorflow as tf"
   ]
  },
  {
   "cell_type": "code",
   "execution_count": 2,
   "id": "loaded-berkeley",
   "metadata": {},
   "outputs": [
    {
     "data": {
      "text/plain": [
       "'2.5.0'"
      ]
     },
     "execution_count": 2,
     "metadata": {},
     "output_type": "execute_result"
    }
   ],
   "source": [
    "# Check the version\n",
    "tf.__version__"
   ]
  },
  {
   "cell_type": "markdown",
   "id": "velvet-trout",
   "metadata": {},
   "source": [
    "- Constant : 상수\n",
    "- Variable : 변수\n",
    "- Placeholder : 심볼릭 변수\n",
    "---\n",
    "\n",
    "## Tensor 정의\n",
    "### (1) Scalar\n",
    "1개의 값만 존재한다."
   ]
  },
  {
   "cell_type": "code",
   "execution_count": 3,
   "id": "upset-tuning",
   "metadata": {},
   "outputs": [
    {
     "data": {
      "text/plain": [
       "<tf.Tensor: shape=(), dtype=int32, numpy=4>"
      ]
     },
     "execution_count": 3,
     "metadata": {},
     "output_type": "execute_result"
    }
   ],
   "source": [
    "rank_0_tensor = tf.constant(4)\n",
    "rank_0_tensor # scalar로 구성된 tensor를 출력"
   ]
  },
  {
   "cell_type": "markdown",
   "id": "induced-notification",
   "metadata": {},
   "source": [
    "```Python\n",
    "# tf.print() : 값 출력\n",
    "```"
   ]
  },
  {
   "cell_type": "code",
   "execution_count": 4,
   "id": "graduate-penny",
   "metadata": {},
   "outputs": [
    {
     "name": "stdout",
     "output_type": "stream",
     "text": [
      "4\n"
     ]
    }
   ],
   "source": [
    "tf.print(rank_0_tensor)"
   ]
  },
  {
   "cell_type": "markdown",
   "id": "transparent-ukraine",
   "metadata": {},
   "source": [
    "### (2) Vector\n",
    "1차원 행렬이다."
   ]
  },
  {
   "cell_type": "code",
   "execution_count": 5,
   "id": "mature-republican",
   "metadata": {},
   "outputs": [
    {
     "name": "stdout",
     "output_type": "stream",
     "text": [
      "[2 3 4]\n"
     ]
    }
   ],
   "source": [
    "rank_1_tensor = tf.constant([2.0, 3.0, 4.0])\n",
    "tf.print(rank_1_tensor)"
   ]
  },
  {
   "cell_type": "markdown",
   "id": "arctic-remains",
   "metadata": {},
   "source": [
    "### (3) Matrix\n",
    "2차원 행렬이다."
   ]
  },
  {
   "cell_type": "code",
   "execution_count": 6,
   "id": "elect-drinking",
   "metadata": {},
   "outputs": [
    {
     "name": "stdout",
     "output_type": "stream",
     "text": [
      "[[1 2]\n",
      " [3 4]]\n"
     ]
    }
   ],
   "source": [
    "rank_2_tensor = tf.constant([[1, 2],\n",
    "                             [3, 4]], dtype=tf.float16)\n",
    "tf.print(rank_2_tensor)"
   ]
  },
  {
   "cell_type": "markdown",
   "id": "expected-prison",
   "metadata": {},
   "source": [
    "### (4) 3-Tensor\n",
    "3차원 행렬이며, n차원도 가능하다."
   ]
  },
  {
   "cell_type": "code",
   "execution_count": 7,
   "id": "political-laptop",
   "metadata": {},
   "outputs": [
    {
     "name": "stdout",
     "output_type": "stream",
     "text": [
      "[[[0 1 2 3 4]\n",
      "  [5 6 7 8 9]]\n",
      "\n",
      " [[10 11 12 13 14]\n",
      "  [15 16 17 18 19]]\n",
      "\n",
      " [[20 21 22 23 24]\n",
      "  [25 26 27 28 29]]]\n"
     ]
    }
   ],
   "source": [
    "rank_3_tensor = tf.constant([\n",
    "    [[0, 1, 2, 3, 4],\n",
    "     [5, 6, 7, 8, 9]],\n",
    "    [[10, 11, 12, 13, 14],\n",
    "     [15, 16, 17, 18, 19]],\n",
    "    [[20, 21, 22, 23, 24],\n",
    "     [25, 26, 27, 28, 29]],])\n",
    "\n",
    "tf.print(rank_3_tensor)"
   ]
  },
  {
   "cell_type": "markdown",
   "id": "typical-philosophy",
   "metadata": {},
   "source": [
    "---\n",
    "## Tensor의 연산\n",
    "덧셈, 요소별 곱셈 및 행렬 곱셈을 포함하여, 텐서에 대한 기본 수학을 수행할 수 있다.\n",
    "\n",
    "```Python\n",
    "# tf.add(x, y) : 덧셈\n",
    "# tf.subtract(x, y) : 뺄셈\n",
    "# tf.multiply(x, y) : 곱셈\n",
    "# tf.truediv(x, y) : 나눗셈의 몫\n",
    "# tf.mod(x, y) : 나눗셈의 나머지\n",
    "# tf.abs(x, y) : 절댓값\n",
    "```"
   ]
  },
  {
   "cell_type": "code",
   "execution_count": 8,
   "id": "subjective-fetish",
   "metadata": {},
   "outputs": [
    {
     "name": "stdout",
     "output_type": "stream",
     "text": [
      "5\n"
     ]
    }
   ],
   "source": [
    "# 상수의 덧셈\n",
    "a = tf.constant(2)\n",
    "b = tf.constant(3)\n",
    "c = tf.add(a, b)\n",
    "tf.print(c)"
   ]
  },
  {
   "cell_type": "markdown",
   "id": "rising-music",
   "metadata": {},
   "source": [
    "```Python\n",
    "# tf.compat.v1.global_variables_initializer() : 변수 초기화를 위한 작업\n",
    "```"
   ]
  },
  {
   "cell_type": "code",
   "execution_count": 9,
   "id": "defensive-glucose",
   "metadata": {},
   "outputs": [
    {
     "name": "stdout",
     "output_type": "stream",
     "text": [
      "9\n"
     ]
    }
   ],
   "source": [
    "# 변수의 덧셈\n",
    "a = tf.Variable(5)\n",
    "b = tf.Variable(4)\n",
    "c = tf.add(a, b)\n",
    "initial = tf.compat.v1.global_variables_initializer()\n",
    "initial\n",
    "tf.print(c)"
   ]
  },
  {
   "cell_type": "code",
   "execution_count": 10,
   "id": "demanding-astrology",
   "metadata": {},
   "outputs": [
    {
     "name": "stdout",
     "output_type": "stream",
     "text": [
      "9\n",
      "1\n",
      "20\n",
      "1.25\n"
     ]
    }
   ],
   "source": [
    "tf.print(tf.add(a, b))\n",
    "tf.print(tf.subtract(a, b))\n",
    "tf.print(tf.multiply(a, b))\n",
    "tf.print(tf.truediv(a, b))"
   ]
  }
 ],
 "metadata": {
  "kernelspec": {
   "display_name": "Python 3",
   "language": "python",
   "name": "python3"
  },
  "language_info": {
   "codemirror_mode": {
    "name": "ipython",
    "version": 3
   },
   "file_extension": ".py",
   "mimetype": "text/x-python",
   "name": "python",
   "nbconvert_exporter": "python",
   "pygments_lexer": "ipython3",
   "version": "3.9.0"
  }
 },
 "nbformat": 4,
 "nbformat_minor": 5
}
